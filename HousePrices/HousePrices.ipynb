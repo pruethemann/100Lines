{
 "cells": [
  {
   "cell_type": "code",
   "execution_count": 55,
   "metadata": {
    "collapsed": true,
    "pycharm": {
     "name": "#%% My first Machine Learning project\n",
     "is_executing": false
    }
   },
   "outputs": [],
   "source": [
    "# Import Data\n",
    "import pandas as pd\n",
    "from sklearn.ensemble import RandomForestRegressor\n",
    "from sklearn.metrics import mean_absolute_error\n",
    "from sklearn.metrics import mean_squared_error\n",
    "from sklearn.model_selection import train_test_split\n",
    "from sklearn.impute import SimpleImputer\n",
    "from sklearn.preprocessing import LabelEncoder\n",
    "import numpy as np\n",
    "\n",
    "\n",
    "X = pd.read_csv('./data/train.csv')\n",
    "X_test = pd.read_csv('./data/test.csv')\n",
    "\n",
    "# Extract House price as target\n",
    "y = X.SalePrice\n",
    "X.drop(['SalePrice'], axis=1, inplace=True)\n",
    "\n",
    "# Split data into training and validation set\n",
    "X_train, X_valid, y_train, y_valid = train_test_split(X, y, train_size=0.8, test_size=0.2, random_state=0)\n",
    "\n",
    "id_test = X_test['Id']\n",
    "X_train.drop(['Id'], inplace=True, axis=1)\n",
    "X_test.drop(['Id'], inplace=True, axis=1)\n",
    "X_valid.drop(['Id'], inplace=True, axis=1)"
   ]
  },
  {
   "cell_type": "code",
   "execution_count": 56,
   "outputs": [
    {
     "name": "stderr",
     "text": [
      "C:\\Users\\Pixelline\\Tools\\Anaconda\\envs\\pr\\lib\\site-packages\\pandas\\core\\frame.py:4117: SettingWithCopyWarning: \nA value is trying to be set on a copy of a slice from a DataFrame\n\nSee the caveats in the documentation: http://pandas.pydata.org/pandas-docs/stable/user_guide/indexing.html#returning-a-view-versus-a-copy\n  errors=errors,\n"
     ],
     "output_type": "stream"
    }
   ],
   "source": [
    "### TODO differentiate high variable and low variable missing values\n",
    "# Extract all categorical data\n",
    "cat_vars_train = X_train.select_dtypes(include=['object'])\n",
    "\n",
    "# Find columns with missing data\n",
    "cat_vars_train = cat_vars_train.isnull().any()\n",
    "cat_vars_train = cat_vars_train[cat_vars_train==True].index\n",
    "\n",
    "# Extract all categorical data\n",
    "cat_vars_test = X_test.select_dtypes(include=['object'])\n",
    "\n",
    "# Find columns with missing data\n",
    "cat_vars_test = cat_vars_test.isnull().any()\n",
    "cat_vars_test = cat_vars_test[cat_vars_test==True].index\n",
    "\n",
    "cat_vars = set(cat_vars_train).union(tuple(cat_vars_test))\n",
    "\n",
    "# Extract all numerical data from train\n",
    "num_vars = X_train.select_dtypes(exclude=['object'])\n",
    "num_vars = num_vars.isnull().any()\n",
    "num_vars = num_vars[num_vars==True].index\n",
    "\n",
    "# Extract all numerical data from test\n",
    "num_vars_test = X_test.select_dtypes(exclude=['object'])\n",
    "num_vars_test = num_vars_test.isnull().any()\n",
    "num_vars_test = num_vars_test[num_vars_test==True].index\n",
    "\n",
    "num_vars = set(num_vars).union(tuple(num_vars_test))\n",
    "\n",
    "# Create an Imputer to replace Nan values\n",
    "imputer_cat = SimpleImputer(strategy='most_frequent')\n",
    "imputer_num = SimpleImputer(strategy='mean')\n",
    "\n",
    "# Replace missing categorical and numerical values with Imputer\n",
    "X_train_cat = pd.DataFrame(imputer_cat.fit_transform(X_train[cat_vars]), columns=cat_vars)\n",
    "X_train_num = pd.DataFrame(imputer_num.fit_transform(X_train[num_vars]), columns=num_vars)\n",
    "\n",
    "# Transform same settings to validation and test set\n",
    "X_valid_cat = pd.DataFrame(imputer_cat.transform(X_valid[cat_vars]), columns=cat_vars)\n",
    "X_valid_num = pd.DataFrame(imputer_num.transform(X_valid[num_vars]), columns=num_vars)\n",
    "X_test_cat = pd.DataFrame(imputer_cat.transform(X_test[cat_vars]), columns=cat_vars)\n",
    "X_test_num = pd.DataFrame(imputer_num.transform(X_test[num_vars]), columns=num_vars)\n",
    "\n",
    "# Merge numerical and categorical datasets together\n",
    "X_train.drop(num_vars, axis=1, inplace=True)\n",
    "X_train.drop(cat_vars, axis=1, inplace=True)\n",
    "X_train.reset_index(drop=True, inplace=True)\n",
    "X_train = pd.concat([X_train, X_train_num, X_train_cat], axis=1)\n",
    "\n",
    "\n",
    "X_valid.drop(num_vars, axis=1, inplace=True)\n",
    "X_valid.drop(cat_vars, axis=1, inplace=True)\n",
    "X_valid.reset_index(drop=True, inplace=True)\n",
    "X_valid = pd.concat([X_valid, X_valid_num, X_valid_cat], axis=1)\n",
    "\n",
    "X_test.drop(num_vars, axis=1, inplace=True)\n",
    "X_test.drop(cat_vars, axis=1, inplace=True)\n",
    "X_test.reset_index(drop=True, inplace=True)\n",
    "X_test = pd.concat([X_test, X_test_num, X_test_cat], axis=1)\n"
   ],
   "metadata": {
    "collapsed": false,
    "pycharm": {
     "name": "#%% Handle missing Nan values\n",
     "is_executing": false
    }
   }
  },
  {
   "cell_type": "code",
   "execution_count": 57,
   "outputs": [],
   "source": [
    "label_vars = X_train.select_dtypes(include=['object']).columns\n",
    "\n",
    "# find all unique labels\n",
    "cardinality = X_train[label_vars].nunique()\n",
    "# Ignore / Drop all values with more than 5 labels\n",
    "#X_train.drop(cardinality[cardinality >= 10].index, axis=1, inplace=True)\n",
    "\n",
    "# Initate Labler\n",
    "\n",
    "labler = LabelEncoder()\n",
    "\n",
    "# Label encode\n",
    "\n",
    "# Columns that can be safely label encoded\n",
    "good_label_cols = [col for col in label_vars if \n",
    "                   set(X_train[col]) == set(X_valid[col])]\n",
    "        \n",
    "# Problematic columns that will be dropped from the dataset\n",
    "bad_label_cols = list(set(label_vars)-set(good_label_cols))\n",
    "\n",
    "# Drop bad labels\n",
    "X_train.drop(bad_label_cols, axis=1, inplace=True)\n",
    "X_valid.drop(bad_label_cols, axis=1, inplace=True)\n",
    "X_test.drop(bad_label_cols, axis=1, inplace=True)\n",
    "\n",
    "for var in good_label_cols:\n",
    "    X_train[var] = labler.fit_transform(X_train[var])\n",
    "    X_valid[var] = labler.transform(X_valid[var])\n",
    "    X_test[var] = labler.fit_transform(X_test[var])"
   ],
   "metadata": {
    "collapsed": false,
    "pycharm": {
     "name": "#%% Encode categorical variables\n",
     "is_executing": false
    }
   }
  },
  {
   "cell_type": "code",
   "execution_count": 58,
   "outputs": [
    {
     "name": "stdout",
     "text": [
      "1071941166.4270076\n17356.048099315067\n"
     ],
     "output_type": "stream"
    }
   ],
   "source": [
    "model = RandomForestRegressor(n_estimators=200, criterion='mse', random_state=0)\n",
    "model.fit(X_train, y_train)\n",
    "y_predict = model.predict(X_valid)\n",
    "\n",
    "print(mean_squared_error(y_valid, y_predict))\n",
    "print(mean_absolute_error(y_valid, y_predict))\n"
   ],
   "metadata": {
    "collapsed": false,
    "pycharm": {
     "name": "#%% Training and Prediction\n",
     "is_executing": false
    }
   }
  },
  {
   "cell_type": "code",
   "execution_count": 59,
   "outputs": [],
   "source": [
    "data = X_train.append(X_valid)\n",
    "y = y_train.append(y_valid)\n",
    "\n",
    "model = RandomForestRegressor(n_estimators=300, criterion='mse', random_state=0)\n",
    "model.fit(data, y)\n",
    "y_predict = model.predict(X_test)\n",
    "\n",
    "#print(mean_squared_error(y, y_predict))\n",
    "#print(mean_absolute_error(y, y_predict))"
   ],
   "metadata": {
    "collapsed": false,
    "pycharm": {
     "name": "#%% Full power\n",
     "is_executing": false
    }
   }
  },
  {
   "cell_type": "code",
   "execution_count": 65,
   "outputs": [
    {
     "name": "stdout",
     "text": [
      "You fucking did it\n"
     ],
     "output_type": "stream"
    }
   ],
   "source": [
    "\n",
    "#Save test predictions to file\n",
    "output = pd.DataFrame({'Id': id_test,\n",
    "                       'SalePrice': y_predict})\n",
    "output.to_csv('Missing_Labels_300_05062020.csv', index=False)\n",
    "\n",
    "print(\"You fucking did it\")"
   ],
   "metadata": {
    "collapsed": false,
    "pycharm": {
     "name": "#%%\n",
     "is_executing": false
    }
   }
  }
 ],
 "metadata": {
  "kernelspec": {
   "display_name": "Python 3",
   "language": "python",
   "name": "python3"
  },
  "language_info": {
   "codemirror_mode": {
    "name": "ipython",
    "version": 2
   },
   "file_extension": ".py",
   "mimetype": "text/x-python",
   "name": "python",
   "nbconvert_exporter": "python",
   "pygments_lexer": "ipython2",
   "version": "2.7.6"
  },
  "pycharm": {
   "stem_cell": {
    "cell_type": "raw",
    "source": [],
    "metadata": {
     "collapsed": false
    }
   }
  }
 },
 "nbformat": 4,
 "nbformat_minor": 0
}